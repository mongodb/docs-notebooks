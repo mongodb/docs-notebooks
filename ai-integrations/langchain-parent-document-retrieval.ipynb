{
 "cells": [
  {
   "cell_type": "markdown",
   "metadata": {},
   "source": [
    "# LangChain MongoDB Integration - Parent Document Retrieval"
   ]
  },
  {
   "cell_type": "markdown",
   "metadata": {},
   "source": [
    "This notebook is a companion to the [Parent Document Retrieval](https://www.mongodb.com/docs/atlas/ai-integrations/langchain/parent-document-retrieval/) page. Refer to the page for set-up instructions and detailed explanations.\n",
    "\n",
    "<a target=\"_blank\" href=\"https://colab.research.google.com/github/mongodb/docs-notebooks/blob/main/ai-integrations/langchain-hybrid-search.ipynb\">\n",
    "  <img src=\"https://colab.research.google.com/assets/colab-badge.svg\" alt=\"Open In Colab\"/>\n",
    "</a>"
   ]
  },
  {
   "cell_type": "code",
   "execution_count": null,
   "metadata": {
    "vscode": {
     "languageId": "shellscript"
    }
   },
   "outputs": [],
   "source": [
    "pip install --quiet --upgrade langchain langchain-community langchain-core langchain-mongodb langchain-voyageai langchain-openai pymongo pypdf"
   ]
  },
  {
   "cell_type": "code",
   "execution_count": null,
   "metadata": {},
   "outputs": [],
   "source": [
    "import os\n",
    "\n",
    "os.environ[\"VOYAGE_API_KEY\"] = \"<voyage-api-key>\"\n",
    "os.environ[\"OPENAI_API_KEY\"] = \"<openai-api-key>\"\n",
    "MONGODB_URI = \"<connection-string>\""
   ]
  },
  {
   "cell_type": "code",
   "execution_count": null,
   "metadata": {},
   "outputs": [],
   "source": [
    "from langchain.text_splitter import RecursiveCharacterTextSplitter\n",
    "from langchain_community.document_loaders import PyPDFLoader\n",
    "\n",
    "# Load the PDF\n",
    "loader = PyPDFLoader(\"https://investors.mongodb.com/node/12881/pdf\") \n",
    "data = loader.load()\n",
    "\n",
    "# Chunk into parent documents\n",
    "parent_splitter = RecursiveCharacterTextSplitter(chunk_size=2000, chunk_overlap=20)\n",
    "docs = parent_splitter.split_documents(data)\n",
    "\n",
    "# Print a document\n",
    "docs[0]"
   ]
  },
  {
   "cell_type": "code",
   "execution_count": null,
   "metadata": {},
   "outputs": [],
   "source": [
    "from langchain_mongodb.retrievers import MongoDBAtlasParentDocumentRetriever\n",
    "from langchain_voyageai import VoyageAIEmbeddings\n",
    "\n",
    "# Define the embedding model to use\n",
    "embedding_model = VoyageAIEmbeddings(model=\"voyage-3-large\")\n",
    "\n",
    "# Define the chunking method for the child documents\n",
    "child_splitter = RecursiveCharacterTextSplitter(chunk_size=200, chunk_overlap=20)\n",
    "\n",
    "# Specify the database and collection name\n",
    "database_name = \"langchain_db\"\n",
    "collection_name = \"parent_document\"\n",
    "\n",
    "# Create the parent document retriever\n",
    "parent_doc_retriever = MongoDBAtlasParentDocumentRetriever.from_connection_string(\n",
    "    connection_string = MONGODB_URI,\n",
    "    child_splitter = child_splitter,\n",
    "    embedding_model = embedding_model,\n",
    "    database_name = database_name,\n",
    "    collection_name = collection_name,\n",
    "    text_key = \"page_content\",\n",
    "    relevance_score_fn = \"dotProduct\",\n",
    "    search_kwargs = { \"k\": 10 },\n",
    ")"
   ]
  },
  {
   "cell_type": "code",
   "execution_count": null,
   "metadata": {},
   "outputs": [],
   "source": [
    "# Ingest the documents into Atlas\n",
    "parent_doc_retriever.add_documents(docs)"
   ]
  },
  {
   "cell_type": "code",
   "execution_count": null,
   "metadata": {},
   "outputs": [],
   "source": [
    "# Get the vector store instance from the retriever\n",
    "vector_store = parent_doc_retriever.vectorstore\n",
    "\n",
    "# Use helper method to create the vector search index\n",
    "vector_store.create_vector_search_index(\n",
    "   dimensions = 1024,       # The dimensions of the vector embeddings to be indexed\n",
    "   wait_until_complete = 60 # Number of seconds to wait for the index to build (can take around a minute)\n",
    ")\n"
   ]
  },
  {
   "cell_type": "code",
   "execution_count": null,
   "metadata": {},
   "outputs": [],
   "source": [
    "# Run a vector search query\n",
    "parent_doc_retriever.invoke(\"AI technology\")"
   ]
  },
  {
   "cell_type": "code",
   "execution_count": null,
   "metadata": {},
   "outputs": [],
   "source": [
    "from langchain_core.output_parsers import StrOutputParser\n",
    "from langchain_core.prompts import PromptTemplate\n",
    "from langchain_core.runnables import  RunnablePassthrough\n",
    "from langchain_openai import ChatOpenAI\n",
    "\n",
    "# Define a prompt template\n",
    "template = \"\"\"\n",
    "   Use the following pieces of context to answer the question at the end.\n",
    "   {context}\n",
    "   Question: {query}?\n",
    "\"\"\"\n",
    "prompt = PromptTemplate.from_template(template)\n",
    "model = ChatOpenAI()\n",
    "\n",
    "# Construct a chain to answer questions on your data\n",
    "chain = (\n",
    "   {\"context\": parent_doc_retriever, \"query\": RunnablePassthrough()}\n",
    "   | prompt\n",
    "   | model\n",
    "   | StrOutputParser()\n",
    ")\n",
    "\n",
    "# Prompt the chain\n",
    "query = \"In a list, what are MongoDB's latest AI announcements?\"\n",
    "answer = chain.invoke(query)\n",
    "print(answer)"
   ]
  }
 ],
 "metadata": {
  "kernelspec": {
   "display_name": "Python 3",
   "language": "python",
   "name": "python3"
  },
  "language_info": {
   "codemirror_mode": {
    "name": "ipython",
    "version": 3
   },
   "file_extension": ".py",
   "mimetype": "text/x-python",
   "name": "python",
   "nbconvert_exporter": "python",
   "pygments_lexer": "ipython3",
   "version": "3.9.12"
  }
 },
 "nbformat": 4,
 "nbformat_minor": 2
}
