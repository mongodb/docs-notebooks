{
 "cells": [
  {
   "cell_type": "markdown",
   "metadata": {},
   "source": [
    "# MongoDB Vector Search - Vector Quantization - New Data"
   ]
  },
  {
   "cell_type": "markdown",
   "metadata": {},
   "source": [
    "This notebook is a companion to the [Vector Quantization](https://www.mongodb.com/docs/atlas/atlas-vector-search/vector-quantization/#how-to-ingest-pre-quantized-vectors) tutorial. Refer to the page for set-up instructions and detailed explanations.\n",
    "\n",
    "This notebook takes you through how to pre-quantize and ingest your vectors for vector search from **existing data in Atlas** by using the `voyage-3-large` model from [Voyage AI](https://www.voyageai.com).\n",
    "\n",
    "<a target=\"_blank\" href=\"https://colab.research.google.com/github/mongodb/docs-notebooks/blob/main/quantization/new-data.ipynb\">\n",
    "  <img src=\"https://colab.research.google.com/assets/colab-badge.svg\" alt=\"Open In Colab\"/>\n",
    "</a>"
   ]
  },
  {
   "cell_type": "code",
   "execution_count": null,
   "metadata": {
    "vscode": {
     "languageId": "shellscript"
    }
   },
   "outputs": [],
   "source": [
    "pip install --quiet --upgrade voyageai pymongo"
   ]
  },
  {
   "cell_type": "code",
   "execution_count": null,
   "metadata": {},
   "outputs": [],
   "source": [
    "import os\n",
    "import voyageai\n",
    "from bson.binary import Binary, BinaryVectorDtype\n",
    "\n",
    "# Initialize the VoyageAI Client\n",
    "os.environ[\"VOYAGE_API_KEY\"] = \"<VOYAGEAI-API-KEY>\"\n",
    "vo = voyageai.Client()\n",
    "\n",
    "# Define a function to generate embeddings for all strings in `texts`\n",
    "def generate_embeddings(texts, model: str, dtype: str, output_dimension: int):\n",
    "    embeddings = []\n",
    "    for text in texts:  # Process eachstring in the data list\n",
    "        embedding = vo.embed(\n",
    "            texts=[text],  # Pass each string as a list with a single item\n",
    "            model=model,\n",
    "            output_dtype=dtype,\n",
    "            output_dimension=output_dimension,\n",
    "        ).embeddings[0]\n",
    "        embeddings.append(embedding)  # Collect the embedding for the current text\n",
    "    return embeddings\n",
    "\n",
    "# Convert embeddings to BSON vectors\n",
    "def generate_bson_vector(vector, vector_dtype):\n",
    "   return Binary.from_vector(vector, vector_dtype)"
   ]
  },
  {
   "cell_type": "code",
   "execution_count": null,
   "metadata": {},
   "outputs": [],
   "source": [
    "# Load sample data\n",
    "data = [\n",
    "   \"The Great Wall of China is visible from space.\",\n",
    "   \"The Eiffel Tower was completed in Paris in 1889.\",\n",
    "   \"Mount Everest is the highest peak on Earth at 8,848m.\",\n",
    "   \"Shakespeare wrote 37 plays and 154 sonnets during his lifetime.\",\n",
    "   \"The Mona Lisa was painted by Leonardo da Vinci.\"\n",
    "]"
   ]
  },
  {
   "cell_type": "code",
   "execution_count": null,
   "metadata": {},
   "outputs": [],
   "source": [
    "# Use the function with different output data types to generate embeddings\n",
    "model_name = \"voyage-3-large\"\n",
    "output_dimension = 1024\n",
    "\n",
    "# Generate embeddings in all supported data types\n",
    "float32_embeddings = generate_embeddings(data, model=model_name, dtype=\"float\", output_dimension=output_dimension)\n",
    "int8_embeddings = generate_embeddings(data, model=model_name, dtype=\"int8\", output_dimension=output_dimension)\n",
    "int1_embeddings = generate_embeddings(data, model=model_name, dtype=\"ubinary\", output_dimension=output_dimension)"
   ]
  },
  {
   "cell_type": "code",
   "execution_count": null,
   "metadata": {},
   "outputs": [],
   "source": [
    "# For all vectors in your collection, generate BSON vectors of float32, int8, and int1 embeddings\n",
    "bson_float32_embeddings = []\n",
    "bson_int8_embeddings = []\n",
    "bson_int1_embeddings = []\n",
    "for i, (f32_emb, int8_emb, int1_emb) in enumerate(zip(float32_embeddings, int8_embeddings, int1_embeddings)):\n",
    "   bson_float32_embeddings.append(generate_bson_vector(f32_emb, BinaryVectorDtype.FLOAT32))\n",
    "   bson_int8_embeddings.append(generate_bson_vector(int8_emb, BinaryVectorDtype.INT8))\n",
    "   bson_int1_embeddings.append(generate_bson_vector(int1_emb, BinaryVectorDtype.PACKED_BIT))"
   ]
  },
  {
   "cell_type": "code",
   "execution_count": null,
   "metadata": {},
   "outputs": [],
   "source": [
    "# Specify the field names for the float32, int8, and int1 embeddings\n",
    "float32_field = \"float32_embedding\" \n",
    "int8_field = \"int8_embedding\"\n",
    "int1_field = \"int1_embedding\"\n",
    "\n",
    "# Define function to create documents with BSON vector embeddings\n",
    "def create_new_docs_with_bson_vectors(bson_float32_embeddings, bson_int8_embeddings, bson_int1_embeddings, data):\n",
    "  docs = []\n",
    "  for i, (bson_f32_emb, bson_int8_emb, bson_int1_emb, text) in enumerate(zip(bson_float32_embeddings, bson_int8_embeddings, bson_int1_embeddings, data)):\n",
    "\n",
    "     doc = {\n",
    "          \"_id\": i,\n",
    "          \"text\": text,\n",
    "          float32_field: bson_f32_emb,\n",
    "          int8_field: bson_int8_emb,\n",
    "          int1_field: bson_int1_emb\n",
    "     }\n",
    "     docs.append(doc)\n",
    "  return docs\n",
    "\n",
    "# Create the documents\n",
    "documents = create_new_docs_with_bson_vectors(bson_float32_embeddings, bson_int8_embeddings, bson_int1_embeddings, data)"
   ]
  },
  {
   "cell_type": "code",
   "execution_count": null,
   "metadata": {},
   "outputs": [],
   "source": [
    "import pymongo\n",
    "\n",
    "mongo_client = pymongo.MongoClient(\"<CONNECTION-STRING>\")\n",
    "# Insert documents into a new database and collection\n",
    "db = mongo_client[\"<DATABASE-NAME>\"]\n",
    "collection_name = \"<COLLECTION-NAME>\"\n",
    "db.create_collection(collection_name)\n",
    "collection = db[collection_name]\n",
    "\n",
    "collection.insert_many(documents)"
   ]
  },
  {
   "cell_type": "code",
   "execution_count": null,
   "metadata": {},
   "outputs": [],
   "source": [
    "from pymongo.operations import SearchIndexModel\n",
    "import time\n",
    "\n",
    "# Define and create the vector search index\n",
    "index_name = \"vector_index\"\n",
    "search_index_model = SearchIndexModel(\n",
    "  definition={\n",
    "    \"fields\": [\n",
    "      {\n",
    "        \"type\": \"vector\",\n",
    "        \"path\": float32_field,\n",
    "        \"similarity\": \"dotProduct\",\n",
    "        \"numDimensions\": 1024\n",
    "      },\n",
    "      {\n",
    "        \"type\": \"vector\",\n",
    "        \"path\": int8_field,\n",
    "        \"similarity\": \"dotProduct\",\n",
    "        \"numDimensions\": 1024\n",
    "      },\n",
    "      {\n",
    "        \"type\": \"vector\",\n",
    "        \"path\": int1_field,\n",
    "        \"similarity\": \"euclidean\",\n",
    "        \"numDimensions\": 1024\n",
    "      }\n",
    "    ]\n",
    "  },\n",
    "  name=index_name,\n",
    "  type=\"vectorSearch\"\n",
    ")\n",
    "result = collection.create_search_index(model=search_index_model)\n",
    "print(\"New search index named \" + result + \" is building.\")\n",
    "\n",
    "# Wait for initial sync to complete\n",
    "print(\"Polling to check if the index is ready. This may take up to a minute.\")\n",
    "predicate=None\n",
    "if predicate is None:\n",
    "  predicate = lambda index: index.get(\"queryable\") is True\n",
    "while True:\n",
    "  indices = list(collection.list_search_indexes(index_name))\n",
    "  if len(indices) and predicate(indices[0]):\n",
    "    break\n",
    "  time.sleep(5)\n",
    "print(result + \" is ready for querying.\")"
   ]
  },
  {
   "cell_type": "code",
   "execution_count": null,
   "metadata": {},
   "outputs": [],
   "source": [
    "import voyageai\n",
    "from bson.binary import Binary, BinaryVectorDtype\n",
    "\n",
    "# Define a function to run a vector search query\n",
    "def run_vector_search(query_text, collection, path):\n",
    "    # Map path to output dtype and BSON vector type\n",
    "    path_to_dtype = {\n",
    "        float32_field: (\"float\", BinaryVectorDtype.FLOAT32),\n",
    "        int8_field: (\"int8\", BinaryVectorDtype.INT8),\n",
    "        int1_field: (\"ubinary\", BinaryVectorDtype.PACKED_BIT),\n",
    "    }\n",
    "\n",
    "    if path not in path_to_dtype:\n",
    "        raise ValueError(\"Invalid path. Must be one of float32_field, int8_field, int1_field.\")\n",
    "\n",
    "    # Get Voyage AI output dtype and BSON vector type based on the path\n",
    "    output_dtype, bson_dtype = path_to_dtype[path]\n",
    "\n",
    "    # Generate query embeddings using Voyage AI\n",
    "    query_vector = vo.embed(\n",
    "        texts=[query_text],\n",
    "        model=\"voyage-3-large\",\n",
    "        input_type=\"query\",\n",
    "        output_dtype=output_dtype\n",
    "    ).embeddings[0]\n",
    "\n",
    "    # Convert the query vector to BSON format\n",
    "    bson_query_vector = Binary.from_vector(query_vector, bson_dtype)\n",
    "\n",
    "    # Define the aggregation pipeline for vector search\n",
    "    pipeline = [\n",
    "        {\n",
    "            \"$vectorSearch\": {\n",
    "                \"index\": index_name,  # Replace with your index name\n",
    "                \"path\": path,         # Path to the embedding field\n",
    "                \"queryVector\": bson_query_vector,  # BSON-encoded query vector\n",
    "                \"numCandidates\": 5,\n",
    "                \"limit\": 2\n",
    "            }\n",
    "        },\n",
    "        {\n",
    "            \"$project\": {\n",
    "                \"_id\": 0,\n",
    "                \"text\": 1,\n",
    "                \"score\": { \"$meta\": \"vectorSearchScore\" }  # Include the similarity score\n",
    "            }\n",
    "        }\n",
    "    ]\n",
    "\n",
    "    # Run the aggregation pipeline and return results\n",
    "    return collection.aggregate(pipeline)"
   ]
  },
  {
   "cell_type": "code",
   "execution_count": null,
   "metadata": {},
   "outputs": [],
   "source": [
    "from pprint import pprint\n",
    "\n",
    "# Define a list of embedding fields to query\n",
    "embedding_fields = [float32_field, int8_field, int1_field] \n",
    "results = {}\n",
    "\n",
    "# Run vector search queries for each embedding type\n",
    "query_text = \"science fact\"\n",
    "for field in embedding_fields:\n",
    "    results[field] = list(run_vector_search(query_text, collection, field)) \n",
    "\n",
    "# Print the results\n",
    "for field, field_results in results.items():\n",
    "    print(f\"Results from {field}\")\n",
    "    pprint(field_results)"
   ]
  }
 ],
 "metadata": {
  "kernelspec": {
   "display_name": "Python 3",
   "language": "python",
   "name": "python3"
  },
  "language_info": {
   "codemirror_mode": {
    "name": "ipython",
    "version": 3
   },
   "file_extension": ".py",
   "mimetype": "text/x-python",
   "name": "python",
   "nbconvert_exporter": "python",
   "pygments_lexer": "ipython3",
   "version": "3.9.12"
  }
 },
 "nbformat": 4,
 "nbformat_minor": 2
}
