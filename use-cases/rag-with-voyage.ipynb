{
 "cells": [
  {
   "cell_type": "markdown",
   "metadata": {},
   "source": [
    "# MongoDB Vector Search - Retrieval-Augmented Generation (RAG)"
   ]
  },
  {
   "cell_type": "markdown",
   "metadata": {},
   "source": [
    "This notebook is a companion to the [Retrieval-Augmented Generation (RAG)](https://www.mongodb.com/docs/atlas/atlas-vector-search/rag/#get-started) tutorial. Refer to the page for set-up instructions and detailed explanations.\n",
    "\n",
    "This notebook takes you through how to implement RAG with MongoDB Vector Search by using the ``voyage-3-large`` embedding model from Voyage AI and an open-source generative model from Hugging Face.\n",
    "\n",
    "<a target=\"_blank\" href=\"https://colab.research.google.com/github/mongodb/docs-notebooks/blob/main/use-cases/rag-with-voyage.ipynb\">\n",
    "  <img src=\"https://colab.research.google.com/assets/colab-badge.svg\" alt=\"Open In Colab\"/>\n",
    "</a>"
   ]
  },
  {
   "cell_type": "code",
   "execution_count": null,
   "metadata": {
    "vscode": {
     "languageId": "shellscript"
    }
   },
   "outputs": [],
   "source": [
    "pip install --quiet --upgrade pymongo sentence_transformers voyageai einops langchain langchain_community pypdf huggingface_hub"
   ]
  },
  {
   "cell_type": "code",
   "execution_count": null,
   "metadata": {},
   "outputs": [],
   "source": [
    "import os\n",
    "\n",
    "# Specify your Hugging Face access token and Voyage API key\n",
    "os.environ[\"HF_TOKEN\"] = \"<token>\"\n",
    "os.environ[\"VOYAGE_API_KEY\"] = \"<api-key>\""
   ]
  },
  {
   "cell_type": "code",
   "execution_count": null,
   "metadata": {},
   "outputs": [],
   "source": [
    "import voyageai\n",
    "\n",
    "# Specify the Voyage AI embedding model\n",
    "model = \"voyage-3-large\"\n",
    "vo = voyageai.Client()\n",
    "\n",
    "# Define a function to generate embeddings\n",
    "def get_embedding(data, input_type = \"document\"):\n",
    "  embeddings = vo.embed(\n",
    "      data, model = model, input_type = input_type\n",
    "  ).embeddings\n",
    "  return embeddings[0]"
   ]
  },
  {
   "cell_type": "code",
   "execution_count": null,
   "metadata": {},
   "outputs": [],
   "source": [
    "from langchain_community.document_loaders import PyPDFLoader\n",
    "from langchain.text_splitter import RecursiveCharacterTextSplitter\n",
    "\n",
    "# Load the PDF\n",
    "loader = PyPDFLoader(\"https://investors.mongodb.com/node/12236/pdf\")\n",
    "data = loader.load()\n",
    "\n",
    "# Split the data into chunks\n",
    "text_splitter = RecursiveCharacterTextSplitter(chunk_size=400, chunk_overlap=20)\n",
    "documents = text_splitter.split_documents(data)"
   ]
  },
  {
   "cell_type": "code",
   "execution_count": null,
   "metadata": {},
   "outputs": [],
   "source": [
    "# Prepare documents for insertion\n",
    "docs_to_insert = [{\n",
    "    \"text\": doc.page_content,\n",
    "    \"embedding\": get_embedding(doc.page_content)\n",
    "} for doc in documents]"
   ]
  },
  {
   "cell_type": "code",
   "execution_count": null,
   "metadata": {},
   "outputs": [],
   "source": [
    "from pymongo import MongoClient\n",
    "\n",
    "# Connect to your MongoDB cluster\n",
    "client = MongoClient(\"<connection-string>\")\n",
    "collection = client[\"rag_db\"][\"test\"]\n",
    "\n",
    "# Insert documents into the collection\n",
    "result = collection.insert_many(docs_to_insert)"
   ]
  },
  {
   "cell_type": "code",
   "execution_count": null,
   "metadata": {},
   "outputs": [],
   "source": [
    "from pymongo.operations import SearchIndexModel\n",
    "import time\n",
    "\n",
    "# Create your index model, then create the search index\n",
    "index_name=\"vector_index\"\n",
    "search_index_model = SearchIndexModel(\n",
    "  definition = {\n",
    "    \"fields\": [\n",
    "      {\n",
    "        \"type\": \"vector\",\n",
    "        \"numDimensions\": 1024,\n",
    "        \"path\": \"embedding\",\n",
    "        \"similarity\": \"cosine\"\n",
    "      }\n",
    "    ]\n",
    "  },\n",
    "  name = index_name,\n",
    "  type = \"vectorSearch\"\n",
    ")\n",
    "collection.create_search_index(model=search_index_model)\n",
    "\n",
    "# Wait for initial sync to complete\n",
    "print(\"Polling to check if the index is ready. This may take up to a minute.\")\n",
    "predicate=None\n",
    "if predicate is None:\n",
    "   predicate = lambda index: index.get(\"queryable\") is True\n",
    "\n",
    "while True:\n",
    "   indices = list(collection.list_search_indexes(index_name))\n",
    "   if len(indices) and predicate(indices[0]):\n",
    "      break\n",
    "   time.sleep(5)\n",
    "print(index_name + \" is ready for querying.\")"
   ]
  },
  {
   "cell_type": "code",
   "execution_count": null,
   "metadata": {},
   "outputs": [],
   "source": [
    "# Define a function to run vector search queries\n",
    "def get_query_results(query):\n",
    "  \"\"\"Gets results from a vector search query.\"\"\"\n",
    "\n",
    "  query_embedding = get_embedding(query, input_type=\"query\")\n",
    "  pipeline = [\n",
    "      {\n",
    "            \"$vectorSearch\": {\n",
    "              \"index\": \"vector_index\",\n",
    "              \"queryVector\": query_embedding,\n",
    "              \"path\": \"embedding\",\n",
    "              \"exact\": True,\n",
    "              \"limit\": 5\n",
    "            }\n",
    "      }, {\n",
    "            \"$project\": {\n",
    "              \"_id\": 0,\n",
    "              \"text\": 1\n",
    "         }\n",
    "      }\n",
    "  ]\n",
    "\n",
    "  results = collection.aggregate(pipeline)\n",
    "\n",
    "  array_of_results = []\n",
    "  for doc in results:\n",
    "      array_of_results.append(doc)\n",
    "  return array_of_results\n",
    "\n",
    "# Test the function with a sample query\n",
    "import pprint\n",
    "pprint.pprint(get_query_results(\"AI technology\"))"
   ]
  },
  {
   "cell_type": "code",
   "execution_count": null,
   "metadata": {},
   "outputs": [],
   "source": [
    "from huggingface_hub import InferenceClient\n",
    "\n",
    "# Specify search query, retrieve relevant documents, and convert to string\n",
    "query = \"What are MongoDB's latest AI announcements?\"\n",
    "context_docs = get_query_results(query)\n",
    "context_string = \" \".join([doc[\"text\"] for doc in context_docs])\n",
    "\n",
    "# Construct prompt for the LLM using the retrieved documents as the context\n",
    "prompt = f\"\"\"Use the following pieces of context to answer the question at the end.\n",
    "    {context_string}\n",
    "    Question: {query}\n",
    "\"\"\"\n",
    "\n",
    "# Use a model from Hugging Face\n",
    "llm = InferenceClient(\n",
    "    \"mistralai/Mixtral-8x22B-Instruct-v0.1\",\n",
    "    provider = \"fireworks-ai\",\n",
    "    token = os.getenv(\"HF_TOKEN\"))\n",
    "\n",
    "# Prompt the LLM (this code varies depending on the model you use)\n",
    "output = llm.chat_completion(\n",
    "    messages=[{\"role\": \"user\", \"content\": prompt}],\n",
    "    max_tokens=150\n",
    ")\n",
    "print(output.choices[0].message.content)"
   ]
  }
 ],
 "metadata": {
  "kernelspec": {
   "display_name": "Python 3",
   "language": "python",
   "name": "python3"
  },
  "language_info": {
   "codemirror_mode": {
    "name": "ipython",
    "version": 3
   },
   "file_extension": ".py",
   "mimetype": "text/x-python",
   "name": "python",
   "nbconvert_exporter": "python",
   "pygments_lexer": "ipython3",
   "version": "3.9.12"
  }
 },
 "nbformat": 4,
 "nbformat_minor": 2
}
